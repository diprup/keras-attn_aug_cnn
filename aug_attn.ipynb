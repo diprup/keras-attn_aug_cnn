{
 "cells": [
  {
   "cell_type": "code",
   "execution_count": 3,
   "metadata": {},
   "outputs": [
    {
     "name": "stdout",
     "output_type": "stream",
     "text": [
      "Model: \"model_2\"\n",
      "__________________________________________________________________________________________________\n",
      "Layer (type)                    Output Shape         Param #     Connected to                     \n",
      "==================================================================================================\n",
      "input_3 (InputLayer)            [(None, None, 10)]   0                                            \n",
      "__________________________________________________________________________________________________\n",
      "conv1d_8 (Conv1D)               (None, None, 10)     310         input_3[0][0]                    \n",
      "__________________________________________________________________________________________________\n",
      "conv1d_10 (Conv1D)              (None, None, 12)     132         conv1d_8[0][0]                   \n",
      "__________________________________________________________________________________________________\n",
      "reshape_11 (Reshape)            (None, 32, 1, 12)    0           conv1d_10[0][0]                  \n",
      "__________________________________________________________________________________________________\n",
      "attention_augmentation2d_2 (Att (None, None, None, N 64          reshape_11[0][0]                 \n",
      "__________________________________________________________________________________________________\n",
      "reshape_12 (Reshape)            (None, 32, 4)        0           attention_augmentation2d_2[0][0] \n",
      "__________________________________________________________________________________________________\n",
      "conv1d_9 (Conv1D)               (None, None, 16)     816         conv1d_8[0][0]                   \n",
      "__________________________________________________________________________________________________\n",
      "conv1d_11 (Conv1D)              (None, 32, 4)        20          reshape_12[0][0]                 \n",
      "__________________________________________________________________________________________________\n",
      "reshape_10 (Reshape)            (None, 32, 1, 16)    0           conv1d_9[0][0]                   \n",
      "__________________________________________________________________________________________________\n",
      "reshape_13 (Reshape)            (None, 32, 1, 4)     0           conv1d_11[0][0]                  \n",
      "__________________________________________________________________________________________________\n",
      "concatenate_2 (Concatenate)     (None, 32, 1, 20)    0           reshape_10[0][0]                 \n",
      "                                                                 reshape_13[0][0]                 \n",
      "__________________________________________________________________________________________________\n",
      "reshape_14 (Reshape)            (None, 32, 20)       0           concatenate_2[0][0]              \n",
      "==================================================================================================\n",
      "Total params: 1,342\n",
      "Trainable params: 1,342\n",
      "Non-trainable params: 0\n",
      "__________________________________________________________________________________________________\n",
      "(1, 32, 10)\n",
      "(1, 32, 20)\n"
     ]
    }
   ],
   "source": [
    "# compatible with tensorflow layers\n",
    "\n",
    "from aug_attn import *\n",
    "from tensorflow.keras.layers import Input\n",
    "from tensorflow.keras.models import Model\n",
    "\n",
    "ip = Input(shape=(None, 10))\n",
    "cnn1 = Conv1D(filters = 10, kernel_size=3, strides=1,padding='same')(ip)\n",
    "x = augmented_conv1d(cnn1, shape = (32, 10), filters=20, kernel_size=5,\n",
    "                     strides = 1,\n",
    "                     padding = 'causal', # if causal convolution is needed\n",
    "                     depth_k=4, depth_v=4,  \n",
    "                     num_heads=4, relative_encodings=True)\n",
    "\n",
    "# depth_k | filters, depth_v | filters,  Nh | depth_k, Nh | filters-depth_v\n",
    "\n",
    "model = Model(ip, x)\n",
    "model.summary()\n",
    "\n",
    "x = tf.ones((1, 32, 10))\n",
    "print(x.shape)\n",
    "y = model(x)\n",
    "print(y.shape)"
   ]
  },
  {
   "cell_type": "code",
   "execution_count": 3,
   "metadata": {},
   "outputs": [
    {
     "data": {
      "text/plain": [
       "TensorShape([Dimension(1), Dimension(2), Dimension(3)])"
      ]
     },
     "execution_count": 3,
     "metadata": {},
     "output_type": "execute_result"
    }
   ],
   "source": [
    "tf.TensorShape([1,2,3])"
   ]
  },
  {
   "cell_type": "code",
   "execution_count": 17,
   "metadata": {},
   "outputs": [
    {
     "name": "stdout",
     "output_type": "stream",
     "text": [
      "Model: \"model_14\"\n",
      "__________________________________________________________________________________________________\n",
      "Layer (type)                    Output Shape         Param #     Connected to                     \n",
      "==================================================================================================\n",
      "input_16 (InputLayer)           (None, 32, 32, 10)   0                                            \n",
      "__________________________________________________________________________________________________\n",
      "conv2d_11 (Conv2D)              (None, 32, 32, 10)   910         input_16[0][0]                   \n",
      "__________________________________________________________________________________________________\n",
      "conv2d_13 (Conv2D)              (None, 32, 32, 12)   132         conv2d_11[0][0]                  \n",
      "__________________________________________________________________________________________________\n",
      "attention_augmentation2d_14 (At (None, 32, 32, 4)    126         conv2d_13[0][0]                  \n",
      "__________________________________________________________________________________________________\n",
      "conv2d_12 (Conv2D)              (None, 32, 32, 16)   4016        conv2d_11[0][0]                  \n",
      "__________________________________________________________________________________________________\n",
      "conv2d_14 (Conv2D)              (None, 32, 32, 4)    20          attention_augmentation2d_14[0][0]\n",
      "__________________________________________________________________________________________________\n",
      "concatenate_14 (Concatenate)    (None, 32, 32, 20)   0           conv2d_12[0][0]                  \n",
      "                                                                 conv2d_14[0][0]                  \n",
      "==================================================================================================\n",
      "Total params: 5,204\n",
      "Trainable params: 5,204\n",
      "Non-trainable params: 0\n",
      "__________________________________________________________________________________________________\n",
      "(1, 32, 32, 10)\n",
      "(1, 32, 32, 20)\n"
     ]
    }
   ],
   "source": [
    "from aug_attn import *\n",
    "from keras.layers import Input\n",
    "from keras.models import Model\n",
    "\n",
    "ip = Input(shape=(32, 32, 10))\n",
    "cnn1 = Conv2D(filters = 10, kernel_size=3, strides=1,padding='same')(ip)\n",
    "x = augmented_conv2d(cnn1, filters=20, kernel_size=5, # shape parameter is not needed\n",
    "                     strides = 1,\n",
    "                     depth_k=4, depth_v=4,  # padding is by default, same\n",
    "                     num_heads=4, relative_encodings=True)\n",
    "\n",
    "# depth_k | filters, depth_v | filters,  Nh | depth_k, Nh | filters-depth_v\n",
    "\n",
    "model = Model(ip, x)\n",
    "model.summary()\n",
    "\n",
    "x = tf.ones((1, 32, 32, 10))\n",
    "print(x.shape)\n",
    "y = model(x)\n",
    "print(y.shape)"
   ]
  },
  {
   "cell_type": "code",
   "execution_count": null,
   "metadata": {},
   "outputs": [],
   "source": []
  }
 ],
 "metadata": {
  "kernelspec": {
   "display_name": "tts",
   "language": "python",
   "name": "tts"
  },
  "language_info": {
   "codemirror_mode": {
    "name": "ipython",
    "version": 3
   },
   "file_extension": ".py",
   "mimetype": "text/x-python",
   "name": "python",
   "nbconvert_exporter": "python",
   "pygments_lexer": "ipython3",
   "version": "3.6.8"
  }
 },
 "nbformat": 4,
 "nbformat_minor": 2
}
